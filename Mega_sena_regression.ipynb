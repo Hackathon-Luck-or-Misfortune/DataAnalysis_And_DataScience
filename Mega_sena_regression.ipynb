{
 "cells": [
  {
   "cell_type": "code",
   "execution_count": 1,
   "metadata": {
    "id": "02Odp1a-rGIQ"
   },
   "outputs": [],
   "source": [
    "import pandas as pd\n",
    "\n",
    "# Suprima avisos\n",
    "import warnings\n",
    "warnings.filterwarnings('ignore')\n",
    "\n",
    "# Carregar o arquivo CSV em um DataFrame\n",
    "df = pd.read_csv('db_mega_atualizado.csv', header=1)\n"
   ]
  },
  {
   "cell_type": "code",
   "execution_count": 2,
   "metadata": {
    "colab": {
     "base_uri": "https://localhost:8080/",
     "height": 206
    },
    "id": "08GhCGjxr-3E",
    "outputId": "ce2dbc13-58d2-4499-d5ab-80a9e970dd6f"
   },
   "outputs": [
    {
     "data": {
      "text/html": [
       "<div>\n",
       "<style scoped>\n",
       "    .dataframe tbody tr th:only-of-type {\n",
       "        vertical-align: middle;\n",
       "    }\n",
       "\n",
       "    .dataframe tbody tr th {\n",
       "        vertical-align: top;\n",
       "    }\n",
       "\n",
       "    .dataframe thead th {\n",
       "        text-align: right;\n",
       "    }\n",
       "</style>\n",
       "<table border=\"1\" class=\"dataframe\">\n",
       "  <thead>\n",
       "    <tr style=\"text-align: right;\">\n",
       "      <th></th>\n",
       "      <th>Conc.</th>\n",
       "      <th>Data</th>\n",
       "      <th>1</th>\n",
       "      <th>2</th>\n",
       "      <th>3</th>\n",
       "      <th>4</th>\n",
       "      <th>5</th>\n",
       "      <th>6</th>\n",
       "      <th>Gan.</th>\n",
       "      <th>Prêmio</th>\n",
       "    </tr>\n",
       "  </thead>\n",
       "  <tbody>\n",
       "    <tr>\n",
       "      <th>0</th>\n",
       "      <td>2675</td>\n",
       "      <td>13/01/2024</td>\n",
       "      <td>1</td>\n",
       "      <td>26</td>\n",
       "      <td>31</td>\n",
       "      <td>34</td>\n",
       "      <td>42</td>\n",
       "      <td>45</td>\n",
       "      <td>0</td>\n",
       "      <td>NaN</td>\n",
       "    </tr>\n",
       "    <tr>\n",
       "      <th>1</th>\n",
       "      <td>2674</td>\n",
       "      <td>11/01/2024</td>\n",
       "      <td>8</td>\n",
       "      <td>14</td>\n",
       "      <td>15</td>\n",
       "      <td>21</td>\n",
       "      <td>23</td>\n",
       "      <td>46</td>\n",
       "      <td>0</td>\n",
       "      <td>NaN</td>\n",
       "    </tr>\n",
       "    <tr>\n",
       "      <th>2</th>\n",
       "      <td>2673</td>\n",
       "      <td>09/01/2024</td>\n",
       "      <td>4</td>\n",
       "      <td>27</td>\n",
       "      <td>35</td>\n",
       "      <td>45</td>\n",
       "      <td>52</td>\n",
       "      <td>56</td>\n",
       "      <td>0</td>\n",
       "      <td>NaN</td>\n",
       "    </tr>\n",
       "    <tr>\n",
       "      <th>3</th>\n",
       "      <td>2672</td>\n",
       "      <td>06/01/2024</td>\n",
       "      <td>10</td>\n",
       "      <td>13</td>\n",
       "      <td>20</td>\n",
       "      <td>40</td>\n",
       "      <td>43</td>\n",
       "      <td>56</td>\n",
       "      <td>1</td>\n",
       "      <td>6,480,136.97</td>\n",
       "    </tr>\n",
       "    <tr>\n",
       "      <th>4</th>\n",
       "      <td>2671</td>\n",
       "      <td>04/01/2024</td>\n",
       "      <td>16</td>\n",
       "      <td>19</td>\n",
       "      <td>43</td>\n",
       "      <td>53</td>\n",
       "      <td>57</td>\n",
       "      <td>58</td>\n",
       "      <td>0</td>\n",
       "      <td>NaN</td>\n",
       "    </tr>\n",
       "  </tbody>\n",
       "</table>\n",
       "</div>"
      ],
      "text/plain": [
       "   Conc.        Data   1   2   3   4   5   6  Gan.        Prêmio\n",
       "0   2675  13/01/2024   1  26  31  34  42  45     0           NaN\n",
       "1   2674  11/01/2024   8  14  15  21  23  46     0           NaN\n",
       "2   2673  09/01/2024   4  27  35  45  52  56     0           NaN\n",
       "3   2672  06/01/2024  10  13  20  40  43  56     1  6,480,136.97\n",
       "4   2671  04/01/2024  16  19  43  53  57  58     0           NaN"
      ]
     },
     "execution_count": 2,
     "metadata": {},
     "output_type": "execute_result"
    }
   ],
   "source": [
    "df.head()"
   ]
  },
  {
   "cell_type": "code",
   "execution_count": 3,
   "metadata": {
    "colab": {
     "base_uri": "https://localhost:8080/",
     "height": 300
    },
    "id": "FNTRfuFnsOTS",
    "outputId": "eb42dc95-96cd-4fda-ecb4-35381b479eac"
   },
   "outputs": [
    {
     "data": {
      "text/html": [
       "<div>\n",
       "<style scoped>\n",
       "    .dataframe tbody tr th:only-of-type {\n",
       "        vertical-align: middle;\n",
       "    }\n",
       "\n",
       "    .dataframe tbody tr th {\n",
       "        vertical-align: top;\n",
       "    }\n",
       "\n",
       "    .dataframe thead th {\n",
       "        text-align: right;\n",
       "    }\n",
       "</style>\n",
       "<table border=\"1\" class=\"dataframe\">\n",
       "  <thead>\n",
       "    <tr style=\"text-align: right;\">\n",
       "      <th></th>\n",
       "      <th>Conc.</th>\n",
       "      <th>1</th>\n",
       "      <th>2</th>\n",
       "      <th>3</th>\n",
       "      <th>4</th>\n",
       "      <th>5</th>\n",
       "      <th>6</th>\n",
       "      <th>Gan.</th>\n",
       "    </tr>\n",
       "  </thead>\n",
       "  <tbody>\n",
       "    <tr>\n",
       "      <th>count</th>\n",
       "      <td>2675.000000</td>\n",
       "      <td>2675.000000</td>\n",
       "      <td>2675.000000</td>\n",
       "      <td>2675.000000</td>\n",
       "      <td>2675.000000</td>\n",
       "      <td>2675.000000</td>\n",
       "      <td>2675.000000</td>\n",
       "      <td>2675.000000</td>\n",
       "    </tr>\n",
       "    <tr>\n",
       "      <th>mean</th>\n",
       "      <td>1338.000000</td>\n",
       "      <td>8.614206</td>\n",
       "      <td>17.348411</td>\n",
       "      <td>26.358879</td>\n",
       "      <td>35.074019</td>\n",
       "      <td>43.566729</td>\n",
       "      <td>52.174206</td>\n",
       "      <td>0.343551</td>\n",
       "    </tr>\n",
       "    <tr>\n",
       "      <th>std</th>\n",
       "      <td>772.350309</td>\n",
       "      <td>6.996790</td>\n",
       "      <td>9.139231</td>\n",
       "      <td>9.971528</td>\n",
       "      <td>9.765564</td>\n",
       "      <td>9.043625</td>\n",
       "      <td>7.002746</td>\n",
       "      <td>1.292241</td>\n",
       "    </tr>\n",
       "    <tr>\n",
       "      <th>min</th>\n",
       "      <td>1.000000</td>\n",
       "      <td>1.000000</td>\n",
       "      <td>2.000000</td>\n",
       "      <td>3.000000</td>\n",
       "      <td>8.000000</td>\n",
       "      <td>11.000000</td>\n",
       "      <td>22.000000</td>\n",
       "      <td>0.000000</td>\n",
       "    </tr>\n",
       "    <tr>\n",
       "      <th>25%</th>\n",
       "      <td>669.500000</td>\n",
       "      <td>3.000000</td>\n",
       "      <td>10.000000</td>\n",
       "      <td>19.000000</td>\n",
       "      <td>28.000000</td>\n",
       "      <td>38.000000</td>\n",
       "      <td>49.000000</td>\n",
       "      <td>0.000000</td>\n",
       "    </tr>\n",
       "    <tr>\n",
       "      <th>50%</th>\n",
       "      <td>1338.000000</td>\n",
       "      <td>7.000000</td>\n",
       "      <td>16.000000</td>\n",
       "      <td>26.000000</td>\n",
       "      <td>35.000000</td>\n",
       "      <td>45.000000</td>\n",
       "      <td>54.000000</td>\n",
       "      <td>0.000000</td>\n",
       "    </tr>\n",
       "    <tr>\n",
       "      <th>75%</th>\n",
       "      <td>2006.500000</td>\n",
       "      <td>12.000000</td>\n",
       "      <td>23.000000</td>\n",
       "      <td>33.000000</td>\n",
       "      <td>42.000000</td>\n",
       "      <td>51.000000</td>\n",
       "      <td>58.000000</td>\n",
       "      <td>0.000000</td>\n",
       "    </tr>\n",
       "    <tr>\n",
       "      <th>max</th>\n",
       "      <td>2675.000000</td>\n",
       "      <td>50.000000</td>\n",
       "      <td>51.000000</td>\n",
       "      <td>56.000000</td>\n",
       "      <td>58.000000</td>\n",
       "      <td>59.000000</td>\n",
       "      <td>60.000000</td>\n",
       "      <td>52.000000</td>\n",
       "    </tr>\n",
       "  </tbody>\n",
       "</table>\n",
       "</div>"
      ],
      "text/plain": [
       "             Conc.            1            2            3            4  \\\n",
       "count  2675.000000  2675.000000  2675.000000  2675.000000  2675.000000   \n",
       "mean   1338.000000     8.614206    17.348411    26.358879    35.074019   \n",
       "std     772.350309     6.996790     9.139231     9.971528     9.765564   \n",
       "min       1.000000     1.000000     2.000000     3.000000     8.000000   \n",
       "25%     669.500000     3.000000    10.000000    19.000000    28.000000   \n",
       "50%    1338.000000     7.000000    16.000000    26.000000    35.000000   \n",
       "75%    2006.500000    12.000000    23.000000    33.000000    42.000000   \n",
       "max    2675.000000    50.000000    51.000000    56.000000    58.000000   \n",
       "\n",
       "                 5            6         Gan.  \n",
       "count  2675.000000  2675.000000  2675.000000  \n",
       "mean     43.566729    52.174206     0.343551  \n",
       "std       9.043625     7.002746     1.292241  \n",
       "min      11.000000    22.000000     0.000000  \n",
       "25%      38.000000    49.000000     0.000000  \n",
       "50%      45.000000    54.000000     0.000000  \n",
       "75%      51.000000    58.000000     0.000000  \n",
       "max      59.000000    60.000000    52.000000  "
      ]
     },
     "execution_count": 3,
     "metadata": {},
     "output_type": "execute_result"
    }
   ],
   "source": [
    "df.describe()"
   ]
  },
  {
   "cell_type": "code",
   "execution_count": 4,
   "metadata": {
    "colab": {
     "base_uri": "https://localhost:8080/"
    },
    "id": "A9w2AdgNtCCH",
    "outputId": "2eede4fe-c133-49b7-b177-d245fb09ccf4"
   },
   "outputs": [
    {
     "name": "stdout",
     "output_type": "stream",
     "text": [
      "Média: 3.5\n",
      "Mediana: 3.5\n",
      "Moda: 1\n"
     ]
    }
   ],
   "source": [
    "import statistics\n",
    "\n",
    "# Números sorteados\n",
    "numeros_sorteados = [1, 2, 3, 4, 5, 6]\n",
    "\n",
    "# Calcular a média\n",
    "media = statistics.mean(numeros_sorteados)\n",
    "\n",
    "# Calcular a mediana\n",
    "mediana = statistics.median(numeros_sorteados)\n",
    "\n",
    "# Calcular a moda\n",
    "moda = statistics.mode(numeros_sorteados)\n",
    "\n",
    "print(\"Média:\", media)\n",
    "print(\"Mediana:\", mediana)\n",
    "print(\"Moda:\", moda)"
   ]
  },
  {
   "cell_type": "code",
   "execution_count": 5,
   "metadata": {
    "id": "BWAdhwEXykk7"
   },
   "outputs": [],
   "source": [
    "df = df.drop(columns=['Conc.'])"
   ]
  },
  {
   "cell_type": "code",
   "execution_count": 6,
   "metadata": {
    "colab": {
     "base_uri": "https://localhost:8080/",
     "height": 423
    },
    "id": "YkpakIl8y0e6",
    "outputId": "da71e653-7c7a-4355-c52c-27862e118ca3"
   },
   "outputs": [
    {
     "data": {
      "text/html": [
       "<div>\n",
       "<style scoped>\n",
       "    .dataframe tbody tr th:only-of-type {\n",
       "        vertical-align: middle;\n",
       "    }\n",
       "\n",
       "    .dataframe tbody tr th {\n",
       "        vertical-align: top;\n",
       "    }\n",
       "\n",
       "    .dataframe thead th {\n",
       "        text-align: right;\n",
       "    }\n",
       "</style>\n",
       "<table border=\"1\" class=\"dataframe\">\n",
       "  <thead>\n",
       "    <tr style=\"text-align: right;\">\n",
       "      <th></th>\n",
       "      <th>Data</th>\n",
       "      <th>1</th>\n",
       "      <th>2</th>\n",
       "      <th>3</th>\n",
       "      <th>4</th>\n",
       "      <th>5</th>\n",
       "      <th>6</th>\n",
       "      <th>Gan.</th>\n",
       "      <th>Prêmio</th>\n",
       "    </tr>\n",
       "  </thead>\n",
       "  <tbody>\n",
       "    <tr>\n",
       "      <th>0</th>\n",
       "      <td>13/01/2024</td>\n",
       "      <td>1</td>\n",
       "      <td>26</td>\n",
       "      <td>31</td>\n",
       "      <td>34</td>\n",
       "      <td>42</td>\n",
       "      <td>45</td>\n",
       "      <td>0</td>\n",
       "      <td>NaN</td>\n",
       "    </tr>\n",
       "    <tr>\n",
       "      <th>1</th>\n",
       "      <td>11/01/2024</td>\n",
       "      <td>8</td>\n",
       "      <td>14</td>\n",
       "      <td>15</td>\n",
       "      <td>21</td>\n",
       "      <td>23</td>\n",
       "      <td>46</td>\n",
       "      <td>0</td>\n",
       "      <td>NaN</td>\n",
       "    </tr>\n",
       "    <tr>\n",
       "      <th>2</th>\n",
       "      <td>09/01/2024</td>\n",
       "      <td>4</td>\n",
       "      <td>27</td>\n",
       "      <td>35</td>\n",
       "      <td>45</td>\n",
       "      <td>52</td>\n",
       "      <td>56</td>\n",
       "      <td>0</td>\n",
       "      <td>NaN</td>\n",
       "    </tr>\n",
       "    <tr>\n",
       "      <th>3</th>\n",
       "      <td>06/01/2024</td>\n",
       "      <td>10</td>\n",
       "      <td>13</td>\n",
       "      <td>20</td>\n",
       "      <td>40</td>\n",
       "      <td>43</td>\n",
       "      <td>56</td>\n",
       "      <td>1</td>\n",
       "      <td>6,480,136.97</td>\n",
       "    </tr>\n",
       "    <tr>\n",
       "      <th>4</th>\n",
       "      <td>04/01/2024</td>\n",
       "      <td>16</td>\n",
       "      <td>19</td>\n",
       "      <td>43</td>\n",
       "      <td>53</td>\n",
       "      <td>57</td>\n",
       "      <td>58</td>\n",
       "      <td>0</td>\n",
       "      <td>NaN</td>\n",
       "    </tr>\n",
       "    <tr>\n",
       "      <th>...</th>\n",
       "      <td>...</td>\n",
       "      <td>...</td>\n",
       "      <td>...</td>\n",
       "      <td>...</td>\n",
       "      <td>...</td>\n",
       "      <td>...</td>\n",
       "      <td>...</td>\n",
       "      <td>...</td>\n",
       "      <td>...</td>\n",
       "    </tr>\n",
       "    <tr>\n",
       "      <th>2670</th>\n",
       "      <td>08/04/1996</td>\n",
       "      <td>1</td>\n",
       "      <td>2</td>\n",
       "      <td>6</td>\n",
       "      <td>16</td>\n",
       "      <td>19</td>\n",
       "      <td>46</td>\n",
       "      <td>0</td>\n",
       "      <td>NaN</td>\n",
       "    </tr>\n",
       "    <tr>\n",
       "      <th>2671</th>\n",
       "      <td>01/04/1996</td>\n",
       "      <td>1</td>\n",
       "      <td>5</td>\n",
       "      <td>6</td>\n",
       "      <td>27</td>\n",
       "      <td>42</td>\n",
       "      <td>59</td>\n",
       "      <td>0</td>\n",
       "      <td>NaN</td>\n",
       "    </tr>\n",
       "    <tr>\n",
       "      <th>2672</th>\n",
       "      <td>25/03/1996</td>\n",
       "      <td>10</td>\n",
       "      <td>11</td>\n",
       "      <td>29</td>\n",
       "      <td>30</td>\n",
       "      <td>36</td>\n",
       "      <td>47</td>\n",
       "      <td>2</td>\n",
       "      <td>391,192.51</td>\n",
       "    </tr>\n",
       "    <tr>\n",
       "      <th>2673</th>\n",
       "      <td>18/03/1996</td>\n",
       "      <td>9</td>\n",
       "      <td>37</td>\n",
       "      <td>39</td>\n",
       "      <td>41</td>\n",
       "      <td>43</td>\n",
       "      <td>49</td>\n",
       "      <td>1</td>\n",
       "      <td>2,307,162.23</td>\n",
       "    </tr>\n",
       "    <tr>\n",
       "      <th>2674</th>\n",
       "      <td>11/03/1996</td>\n",
       "      <td>4</td>\n",
       "      <td>5</td>\n",
       "      <td>30</td>\n",
       "      <td>33</td>\n",
       "      <td>41</td>\n",
       "      <td>52</td>\n",
       "      <td>0</td>\n",
       "      <td>NaN</td>\n",
       "    </tr>\n",
       "  </tbody>\n",
       "</table>\n",
       "<p>2675 rows × 9 columns</p>\n",
       "</div>"
      ],
      "text/plain": [
       "            Data   1   2   3   4   5   6  Gan.        Prêmio\n",
       "0     13/01/2024   1  26  31  34  42  45     0           NaN\n",
       "1     11/01/2024   8  14  15  21  23  46     0           NaN\n",
       "2     09/01/2024   4  27  35  45  52  56     0           NaN\n",
       "3     06/01/2024  10  13  20  40  43  56     1  6,480,136.97\n",
       "4     04/01/2024  16  19  43  53  57  58     0           NaN\n",
       "...          ...  ..  ..  ..  ..  ..  ..   ...           ...\n",
       "2670  08/04/1996   1   2   6  16  19  46     0           NaN\n",
       "2671  01/04/1996   1   5   6  27  42  59     0           NaN\n",
       "2672  25/03/1996  10  11  29  30  36  47     2    391,192.51\n",
       "2673  18/03/1996   9  37  39  41  43  49     1  2,307,162.23\n",
       "2674  11/03/1996   4   5  30  33  41  52     0           NaN\n",
       "\n",
       "[2675 rows x 9 columns]"
      ]
     },
     "execution_count": 6,
     "metadata": {},
     "output_type": "execute_result"
    }
   ],
   "source": [
    "df"
   ]
  },
  {
   "cell_type": "code",
   "execution_count": 7,
   "metadata": {
    "id": "JF0CkAyW3qyL"
   },
   "outputs": [],
   "source": [
    "#df = df.rename(columns={'1': 'Coluna1', '2': 'Coluna2', '3': 'Coluna3', '4': 'Coluna4', '5': 'Coluna5', '6': 'Coluna6'})"
   ]
  },
  {
   "cell_type": "code",
   "execution_count": 8,
   "metadata": {
    "id": "beX2VVKc37yi"
   },
   "outputs": [],
   "source": [
    "#df"
   ]
  },
  {
   "cell_type": "code",
   "execution_count": 9,
   "metadata": {
    "id": "RRUewP3eD1wO"
   },
   "outputs": [],
   "source": [
    "colunas_especificas = ['1', '2','3' ,'4' ,'5','6']"
   ]
  },
  {
   "cell_type": "code",
   "execution_count": 10,
   "metadata": {
    "id": "Ywh5ariND_9h"
   },
   "outputs": [],
   "source": [
    "array_resultante = df[colunas_especificas].values"
   ]
  },
  {
   "cell_type": "code",
   "execution_count": 11,
   "metadata": {
    "colab": {
     "base_uri": "https://localhost:8080/"
    },
    "id": "4esYoyA0FM26",
    "outputId": "347cbe73-9b31-4fe1-c5b6-a80bf17c1d6b"
   },
   "outputs": [
    {
     "data": {
      "text/plain": [
       "array([[ 1, 26, 31, 34, 42, 45],\n",
       "       [ 8, 14, 15, 21, 23, 46],\n",
       "       [ 4, 27, 35, 45, 52, 56],\n",
       "       ...,\n",
       "       [10, 11, 29, 30, 36, 47],\n",
       "       [ 9, 37, 39, 41, 43, 49],\n",
       "       [ 4,  5, 30, 33, 41, 52]], dtype=int64)"
      ]
     },
     "execution_count": 11,
     "metadata": {},
     "output_type": "execute_result"
    }
   ],
   "source": [
    "array_resultante"
   ]
  },
  {
   "cell_type": "code",
   "execution_count": 12,
   "metadata": {
    "id": "U-6YGIQhHevr"
   },
   "outputs": [],
   "source": [
    "df['NovaColuna'] = pd.Series(array_resultante.tolist())"
   ]
  },
  {
   "cell_type": "code",
   "execution_count": 13,
   "metadata": {
    "id": "OIA_V0-rHzDF"
   },
   "outputs": [],
   "source": [
    "df.drop(['1', '2','3' ,'4' ,'5','6'], axis=1, inplace=True)"
   ]
  },
  {
   "cell_type": "code",
   "execution_count": 14,
   "metadata": {
    "id": "eRveXmMmJf4t"
   },
   "outputs": [],
   "source": [
    "numeros_verificar = range(1, 61)\n",
    "\n",
    "for numero in numeros_verificar:\n",
    "    coluna_nome = numero\n",
    "    df[coluna_nome] = df['NovaColuna'].apply(lambda lista: numero in lista)\n"
   ]
  },
  {
   "cell_type": "code",
   "execution_count": 15,
   "metadata": {
    "id": "mxwa9m24J0Mq"
   },
   "outputs": [],
   "source": [
    "df.drop(['NovaColuna','Prêmio'], axis=1, inplace=True)"
   ]
  },
  {
   "cell_type": "code",
   "execution_count": 16,
   "metadata": {
    "colab": {
     "base_uri": "https://localhost:8080/"
    },
    "id": "sRZ1U_NkblRI",
    "outputId": "c7b6d4f6-06d3-4ed2-8447-1829f51d647c"
   },
   "outputs": [
    {
     "name": "stdout",
     "output_type": "stream",
     "text": [
      "            Data  Gan.  1  2  3  4  5  6  7  8  ...  51  52  53  54  55  56  \\\n",
      "0     13/01/2024     0  1  0  0  0  0  0  0  0  ...   0   0   0   0   0   0   \n",
      "1     11/01/2024     0  0  0  0  0  0  0  0  1  ...   0   0   0   0   0   0   \n",
      "2     09/01/2024     0  0  0  0  1  0  0  0  0  ...   0   1   0   0   0   1   \n",
      "3     06/01/2024     1  0  0  0  0  0  0  0  0  ...   0   0   0   0   0   1   \n",
      "4     04/01/2024     0  0  0  0  0  0  0  0  0  ...   0   0   1   0   0   0   \n",
      "...          ...   ... .. .. .. .. .. .. .. ..  ...  ..  ..  ..  ..  ..  ..   \n",
      "2670  08/04/1996     0  1  1  0  0  0  1  0  0  ...   0   0   0   0   0   0   \n",
      "2671  01/04/1996     0  1  0  0  0  1  1  0  0  ...   0   0   0   0   0   0   \n",
      "2672  25/03/1996     2  0  0  0  0  0  0  0  0  ...   0   0   0   0   0   0   \n",
      "2673  18/03/1996     1  0  0  0  0  0  0  0  0  ...   0   0   0   0   0   0   \n",
      "2674  11/03/1996     0  0  0  0  1  1  0  0  0  ...   0   1   0   0   0   0   \n",
      "\n",
      "      57  58  59  60  \n",
      "0      0   0   0   0  \n",
      "1      0   0   0   0  \n",
      "2      0   0   0   0  \n",
      "3      0   0   0   0  \n",
      "4      1   1   0   0  \n",
      "...   ..  ..  ..  ..  \n",
      "2670   0   0   0   0  \n",
      "2671   0   0   1   0  \n",
      "2672   0   0   0   0  \n",
      "2673   0   0   0   0  \n",
      "2674   0   0   0   0  \n",
      "\n",
      "[2675 rows x 62 columns]\n"
     ]
    }
   ],
   "source": [
    "df.replace({True: 1, False: 0}, inplace=True)\n",
    "\n",
    "# Exibir o DataFrame resultante\n",
    "print(df)"
   ]
  },
  {
   "cell_type": "code",
   "execution_count": 17,
   "metadata": {
    "colab": {
     "base_uri": "https://localhost:8080/"
    },
    "id": "hmdm84F6NtZV",
    "outputId": "813f15d5-2257-4e1d-c360-749c822e048a"
   },
   "outputs": [],
   "source": [
    "df['Data'] = pd.to_datetime(df['Data'])"
   ]
  },
  {
   "cell_type": "code",
   "execution_count": 18,
   "metadata": {
    "colab": {
     "base_uri": "https://localhost:8080/"
    },
    "id": "9nX2rICof9mo",
    "outputId": "1542cb65-4c00-4ed3-c837-fba77dbe0ff1"
   },
   "outputs": [
    {
     "name": "stdout",
     "output_type": "stream",
     "text": [
      "Os 6 números mais prováveis: [[0 0 0 1 0 0 0 0 1 0 0 0 0 0 1 0 1 0 0 0 0 0 0 0 0 0 0 0 0 0 0 0 0 1 0 0\n",
      "  0 0 1 0 0 0 0 0 0 0 0 0 0 0 0 0 0 0 0 0 0 0 0 0]\n",
      " [1 0 0 0 0 0 0 0 0 0 0 0 0 0 0 0 1 0 0 0 0 0 0 0 1 0 0 0 0 0 0 0 0 0 0 0\n",
      "  0 1 0 0 0 0 0 0 1 0 0 0 0 0 0 0 0 0 0 0 0 0 1 0]\n",
      " [0 0 0 0 0 0 0 0 0 0 0 0 0 0 0 0 1 0 0 0 0 1 0 0 0 1 0 1 0 0 0 0 0 0 0 0\n",
      "  0 1 0 0 0 1 0 0 0 0 0 0 0 0 0 0 0 0 0 0 0 0 0 0]\n",
      " [1 0 0 1 0 0 0 0 0 0 0 0 1 0 0 0 1 0 0 0 0 0 0 0 0 0 0 0 0 0 0 0 0 0 0 0\n",
      "  0 1 0 0 0 0 0 0 0 0 0 1 0 0 0 0 0 0 0 0 0 0 0 0]\n",
      " [0 0 0 0 0 0 1 0 0 0 1 0 0 0 0 0 0 0 1 0 0 0 1 0 0 0 0 0 0 0 0 0 0 0 0 0\n",
      "  0 0 0 1 0 0 0 0 0 0 0 0 1 0 0 0 0 0 0 0 0 0 0 0]\n",
      " [0 0 0 0 0 0 0 0 0 0 0 0 0 0 0 0 0 0 0 0 0 0 0 1 0 0 0 1 0 0 0 0 0 1 0 0\n",
      "  0 1 0 0 0 0 1 0 0 0 0 0 0 0 0 0 1 0 0 0 0 0 0 0]\n",
      " [0 0 0 0 1 0 0 0 0 0 0 0 0 0 1 0 0 0 0 0 0 0 0 0 0 0 0 1 0 0 0 1 0 0 0 0\n",
      "  0 1 0 0 0 0 0 0 0 0 0 0 0 0 0 0 0 1 0 0 0 0 0 0]\n",
      " [0 0 0 0 0 0 0 0 0 0 0 0 0 1 0 0 0 0 0 1 0 0 1 0 0 0 0 0 0 0 0 0 0 0 0 0\n",
      "  0 0 1 0 0 0 0 0 0 1 0 0 0 1 0 0 0 0 0 0 0 0 0 0]\n",
      " [0 0 0 0 0 0 0 0 0 0 0 0 0 0 0 1 1 0 0 0 0 0 0 0 0 0 0 0 0 0 0 0 0 0 0 0\n",
      "  0 1 1 0 0 0 0 0 1 0 0 0 0 0 0 0 0 0 0 1 0 0 0 0]\n",
      " [0 0 0 0 0 0 0 0 0 0 0 0 0 1 0 0 0 0 0 0 0 0 0 1 0 0 0 0 0 0 0 0 0 0 0 0\n",
      "  1 0 0 1 0 1 0 0 1 0 0 0 0 0 0 0 0 0 0 0 0 0 0 0]]\n",
      "Os 6 números menos prováveis: [[0 0 1 0 0 0 0 0 0 0 0 0 0 0 0 0 0 0 1 0 0 0 0 0 0 0 0 0 0 0 0 0 0 1 0 0\n",
      "  0 0 0 0 0 0 0 1 0 0 0 0 0 0 0 0 0 0 0 1 0 1 0 0]\n",
      " [0 0 0 0 0 0 0 0 1 0 0 0 1 0 0 0 0 0 0 1 0 0 0 0 0 0 0 0 0 0 0 1 0 0 0 0\n",
      "  0 0 0 0 1 0 0 0 0 0 0 0 0 0 0 0 0 0 0 0 0 1 0 0]\n",
      " [0 0 0 0 1 0 0 0 0 0 0 0 0 0 0 0 0 0 0 0 0 1 1 1 0 0 0 0 0 0 0 0 0 1 0 0\n",
      "  0 0 0 0 0 0 0 0 0 0 0 0 0 0 0 0 0 0 0 0 0 0 0 1]\n",
      " [0 1 0 0 1 0 0 0 0 0 0 0 0 0 0 1 0 0 0 1 0 0 0 0 0 0 0 0 0 0 0 0 0 0 1 0\n",
      "  0 0 0 0 0 0 1 0 0 0 0 0 0 0 0 0 0 0 0 0 0 0 0 0]\n",
      " [0 1 0 0 1 0 0 0 0 0 0 0 0 0 1 0 0 0 0 1 0 0 0 0 0 0 0 0 0 0 0 0 0 0 0 0\n",
      "  0 0 0 0 0 0 1 0 0 0 0 0 0 0 0 0 0 0 0 0 1 0 0 0]\n",
      " [0 0 0 0 0 0 0 0 1 0 0 0 0 1 0 0 0 0 0 0 0 1 0 1 0 0 0 0 0 0 0 0 0 0 0 0\n",
      "  0 0 0 0 0 0 0 1 0 0 1 0 0 0 0 0 0 0 0 0 0 0 0 0]\n",
      " [0 1 0 0 1 0 0 1 0 0 0 0 0 0 0 0 0 0 0 0 0 0 0 0 0 0 0 0 0 0 0 0 0 0 0 0\n",
      "  0 0 0 0 0 1 0 0 0 1 0 0 0 0 0 0 0 0 0 0 0 0 1 0]\n",
      " [0 0 0 1 0 0 0 0 0 0 0 0 0 0 0 0 0 0 1 0 0 0 1 0 0 0 0 0 1 0 0 0 0 0 0 0\n",
      "  0 0 0 0 0 0 0 0 0 0 0 0 0 0 0 0 0 0 0 1 0 0 1 0]\n",
      " [0 0 0 0 1 0 0 0 0 1 0 0 0 0 0 0 0 0 0 0 0 0 0 0 0 1 0 0 0 0 0 0 0 0 1 0\n",
      "  0 1 0 0 0 0 0 1 0 0 0 0 0 0 0 0 0 0 0 0 0 0 0 0]\n",
      " [0 0 0 0 0 0 0 0 0 0 0 0 0 0 0 0 0 0 0 0 1 0 0 0 0 0 0 0 0 0 0 0 0 0 0 0\n",
      "  0 1 0 0 0 0 0 0 0 0 0 0 0 0 0 0 1 0 0 1 1 1 0 0]]\n"
     ]
    }
   ],
   "source": [
    "import pandas as pd\n",
    "from sklearn.model_selection import train_test_split\n",
    "from sklearn.linear_model import LogisticRegression\n",
    "from sklearn.preprocessing import StandardScaler\n",
    "from imblearn.over_sampling import RandomOverSampler\n",
    "\n",
    "\n",
    "\n",
    "# Separar os dados em recursos (X) e rótulos (y)\n",
    "X = df.drop(['Data', 'Gan.'], axis=1)  # Removendo colunas não relevantes para a previsão\n",
    "y = df['Gan.']\n",
    "\n",
    "# Dividir os dados em conjunto de treinamento e teste\n",
    "X_train, X_test, y_train, y_test = train_test_split(X, y, test_size=0.2, random_state=42)\n",
    "\n",
    "# Lidar com classes desbalanceadas usando RandomOverSampler\n",
    "oversampler = RandomOverSampler(random_state=42)\n",
    "X_resampled, y_resampled = oversampler.fit_resample(X_train, y_train)\n",
    "\n",
    "# Padronizar os dados\n",
    "scaler = StandardScaler()\n",
    "X_train_scaled = scaler.fit_transform(X_resampled)  # Use os dados resampledados para treinamento\n",
    "X_test_scaled = scaler.transform(X_test)\n",
    "\n",
    "# Criar e treinar um modelo de Regressão Logística\n",
    "modelo = LogisticRegression()\n",
    "modelo.fit(X_train_scaled, y_resampled)\n",
    "\n",
    "# Fazer previsões no conjunto de teste\n",
    "previsoes = modelo.predict(X_test_scaled)\n",
    "\n",
    "# Probabilidades associadas às previsões\n",
    "probabilidades = modelo.predict_proba(X_test_scaled)[:, 1]\n",
    "\n",
    "# Adicionar probabilidades ao DataFrame de teste\n",
    "df_test = X_test.copy()\n",
    "df_test['Probabilidade'] = probabilidades\n",
    "\n",
    "# Ordenar o DataFrame pelos valores de probabilidade em ordem decrescente\n",
    "df_test_mais = df_test.sort_values(by='Probabilidade', ascending=False)\n",
    "\n",
    "# Exibir os 6 números mais prováveis de serem sorteados\n",
    "numeros_mais_provaveis = df_test_mais.head(10).drop(['Probabilidade'], axis=1).values\n",
    "print(f'Os 6 números mais prováveis: {numeros_mais_provaveis}')\n",
    "\n",
    "# Ordenar o DataFrame pelos valores de probabilidade em ordem crescente\n",
    "df_test_menos = df_test.sort_values(by='Probabilidade', ascending=True)\n",
    "\n",
    "# Exibir os 6 números menos prováveis de serem sorteados\n",
    "numeros_menos_provaveis = df_test_menos.head(10).drop(['Probabilidade'], axis=1).values\n",
    "print(f'Os 6 números menos prováveis: {numeros_menos_provaveis}')"
   ]
  },
  {
   "cell_type": "code",
   "execution_count": 19,
   "metadata": {
    "colab": {
     "base_uri": "https://localhost:8080/"
    },
    "id": "CVeTRnbbh-D1",
    "outputId": "f2e9fe40-4095-4983-ebbb-f32ae199fe05"
   },
   "outputs": [
    {
     "name": "stdout",
     "output_type": "stream",
     "text": [
      "Acurácia do modelo: 0.3102803738317757\n"
     ]
    }
   ],
   "source": [
    "from sklearn.metrics import accuracy_score\n",
    "\n",
    "# Avaliar a acurácia do modelo\n",
    "acuracia = accuracy_score(y_test, previsoes)\n",
    "print(f'Acurácia do modelo: {acuracia}')"
   ]
  },
  {
   "cell_type": "code",
   "execution_count": 20,
   "metadata": {
    "colab": {
     "base_uri": "https://localhost:8080/"
    },
    "id": "ZdZK5urrf9-C",
    "outputId": "76295296-e5b6-4564-804e-7445b98e6b2c"
   },
   "outputs": [
    {
     "name": "stdout",
     "output_type": "stream",
     "text": [
      "Os 3 sequencias números menos prováveis:\n",
      "[3, 8, 14, 16, 33, 38]\n",
      "[16, 24, 37, 44, 58]\n",
      "[16, 21, 25, 27, 37, 41]\n",
      "[3, 12, 16, 37, 47]\n",
      "[6, 10, 18, 22, 39, 48]\n",
      "[23, 27, 33, 37, 42, 52]\n",
      "[4, 14, 27, 31, 37, 53]\n",
      "[13, 19, 22, 38, 45, 49]\n",
      "[15, 16, 37, 38, 44, 55]\n",
      "[13, 23, 36, 39, 41, 44]\n"
     ]
    }
   ],
   "source": [
    "numeros_convertidos_mais = []\n",
    "for linha in numeros_mais_provaveis:\n",
    "    numeros_mais = [i + 1 for i, valor in enumerate(linha[1:]) if valor == 1]\n",
    "    numeros_convertidos_mais.append(numeros_mais)\n",
    "\n",
    "print('Os 3 sequencias números menos prováveis:')\n",
    "for numeros_mais in numeros_convertidos_mais:\n",
    "    print(numeros_mais)\n",
    "\n",
    "    #5NPS"
   ]
  },
  {
   "cell_type": "code",
   "execution_count": 49,
   "metadata": {
    "colab": {
     "base_uri": "https://localhost:8080/"
    },
    "id": "aNC57Eainswj",
    "outputId": "0ff77d72-3d4d-434f-e755-301bc8fd1eb5"
   },
   "outputs": [
    {
     "name": "stdout",
     "output_type": "stream",
     "text": [
      "Os 3 sequencias números mais prováveis:\n",
      "[2, 18, 33, 43, 55, 57]\n",
      "[8, 12, 19, 31, 40, 57]\n",
      "[4, 21, 22, 23, 33, 59]\n",
      "[1, 4, 15, 19, 34, 42]\n",
      "[1, 4, 14, 19, 42, 56]\n",
      "[8, 13, 21, 23, 43, 46]\n",
      "[1, 4, 7, 41, 45, 58]\n",
      "[3, 18, 22, 28, 55, 58]\n",
      "[4, 9, 25, 34, 37, 43]\n",
      "[20, 37, 52, 55, 56, 57]\n"
     ]
    }
   ],
   "source": [
    "numeros_convertidos_menos = []\n",
    "for linha in numeros_menos_provaveis:\n",
    "    numeros_menos = [i + 1 for i, valor in enumerate(linha[1:]) if valor == 1]\n",
    "    numeros_convertidos_menos.append(numeros_menos)\n",
    "\n",
    "print('Os 3 sequencias números mais prováveis:')\n",
    "json_sequencia = []\n",
    "for numeros_menos in numeros_convertidos_menos:\n",
    "    json_sequencia.append(numeros_menos)\n",
    "    print(numeros_menos)"
   ]
  },
  {
   "cell_type": "code",
   "execution_count": 22,
   "metadata": {
    "colab": {
     "base_uri": "https://localhost:8080/",
     "height": 78
    },
    "id": "wcJtIeaXf-Js",
    "outputId": "f713ec0f-8548-410e-d43d-2730d26e7a42"
   },
   "outputs": [
    {
     "data": {
      "text/html": [
       "<div>\n",
       "<style scoped>\n",
       "    .dataframe tbody tr th:only-of-type {\n",
       "        vertical-align: middle;\n",
       "    }\n",
       "\n",
       "    .dataframe tbody tr th {\n",
       "        vertical-align: top;\n",
       "    }\n",
       "\n",
       "    .dataframe thead th {\n",
       "        text-align: right;\n",
       "    }\n",
       "</style>\n",
       "<table border=\"1\" class=\"dataframe\">\n",
       "  <thead>\n",
       "    <tr style=\"text-align: right;\">\n",
       "      <th></th>\n",
       "      <th>Data</th>\n",
       "      <th>Gan.</th>\n",
       "      <th>1</th>\n",
       "      <th>2</th>\n",
       "      <th>3</th>\n",
       "      <th>4</th>\n",
       "      <th>5</th>\n",
       "      <th>6</th>\n",
       "      <th>7</th>\n",
       "      <th>8</th>\n",
       "      <th>...</th>\n",
       "      <th>51</th>\n",
       "      <th>52</th>\n",
       "      <th>53</th>\n",
       "      <th>54</th>\n",
       "      <th>55</th>\n",
       "      <th>56</th>\n",
       "      <th>57</th>\n",
       "      <th>58</th>\n",
       "      <th>59</th>\n",
       "      <th>60</th>\n",
       "    </tr>\n",
       "  </thead>\n",
       "  <tbody>\n",
       "  </tbody>\n",
       "</table>\n",
       "<p>0 rows × 62 columns</p>\n",
       "</div>"
      ],
      "text/plain": [
       "Empty DataFrame\n",
       "Columns: [Data, Gan., 1, 2, 3, 4, 5, 6, 7, 8, 9, 10, 11, 12, 13, 14, 15, 16, 17, 18, 19, 20, 21, 22, 23, 24, 25, 26, 27, 28, 29, 30, 31, 32, 33, 34, 35, 36, 37, 38, 39, 40, 41, 42, 43, 44, 45, 46, 47, 48, 49, 50, 51, 52, 53, 54, 55, 56, 57, 58, 59, 60]\n",
       "Index: []\n",
       "\n",
       "[0 rows x 62 columns]"
      ]
     },
     "execution_count": 22,
     "metadata": {},
     "output_type": "execute_result"
    }
   ],
   "source": [
    "df[(df[2] == 1) & (df[18] == 1) & (df[33] == 1) & (df[43] == 1) & (df[55] == 1) & (df[57] == 1)]"
   ]
  },
  {
   "cell_type": "code",
   "execution_count": 23,
   "metadata": {
    "colab": {
     "base_uri": "https://localhost:8080/",
     "height": 78
    },
    "id": "_9s3aeJYf-Ua",
    "outputId": "a9681138-d633-439c-f761-eca1ea06a914"
   },
   "outputs": [
    {
     "data": {
      "text/html": [
       "<div>\n",
       "<style scoped>\n",
       "    .dataframe tbody tr th:only-of-type {\n",
       "        vertical-align: middle;\n",
       "    }\n",
       "\n",
       "    .dataframe tbody tr th {\n",
       "        vertical-align: top;\n",
       "    }\n",
       "\n",
       "    .dataframe thead th {\n",
       "        text-align: right;\n",
       "    }\n",
       "</style>\n",
       "<table border=\"1\" class=\"dataframe\">\n",
       "  <thead>\n",
       "    <tr style=\"text-align: right;\">\n",
       "      <th></th>\n",
       "      <th>Data</th>\n",
       "      <th>Gan.</th>\n",
       "      <th>1</th>\n",
       "      <th>2</th>\n",
       "      <th>3</th>\n",
       "      <th>4</th>\n",
       "      <th>5</th>\n",
       "      <th>6</th>\n",
       "      <th>7</th>\n",
       "      <th>8</th>\n",
       "      <th>...</th>\n",
       "      <th>51</th>\n",
       "      <th>52</th>\n",
       "      <th>53</th>\n",
       "      <th>54</th>\n",
       "      <th>55</th>\n",
       "      <th>56</th>\n",
       "      <th>57</th>\n",
       "      <th>58</th>\n",
       "      <th>59</th>\n",
       "      <th>60</th>\n",
       "    </tr>\n",
       "  </thead>\n",
       "  <tbody>\n",
       "  </tbody>\n",
       "</table>\n",
       "<p>0 rows × 62 columns</p>\n",
       "</div>"
      ],
      "text/plain": [
       "Empty DataFrame\n",
       "Columns: [Data, Gan., 1, 2, 3, 4, 5, 6, 7, 8, 9, 10, 11, 12, 13, 14, 15, 16, 17, 18, 19, 20, 21, 22, 23, 24, 25, 26, 27, 28, 29, 30, 31, 32, 33, 34, 35, 36, 37, 38, 39, 40, 41, 42, 43, 44, 45, 46, 47, 48, 49, 50, 51, 52, 53, 54, 55, 56, 57, 58, 59, 60]\n",
       "Index: []\n",
       "\n",
       "[0 rows x 62 columns]"
      ]
     },
     "execution_count": 23,
     "metadata": {},
     "output_type": "execute_result"
    }
   ],
   "source": [
    "df[(df[11] == 1) & (df[19] == 1) & (df[23] == 1) & (df[27] == 1) & (df[32] == 1) & (df[56] == 1)]"
   ]
  },
  {
   "cell_type": "code",
   "execution_count": 24,
   "metadata": {
    "colab": {
     "base_uri": "https://localhost:8080/",
     "height": 78
    },
    "id": "GSNnq7tPf-eA",
    "outputId": "bae2ae3b-eea8-42f8-d16d-ed7ccd3f4596"
   },
   "outputs": [
    {
     "data": {
      "text/html": [
       "<div>\n",
       "<style scoped>\n",
       "    .dataframe tbody tr th:only-of-type {\n",
       "        vertical-align: middle;\n",
       "    }\n",
       "\n",
       "    .dataframe tbody tr th {\n",
       "        vertical-align: top;\n",
       "    }\n",
       "\n",
       "    .dataframe thead th {\n",
       "        text-align: right;\n",
       "    }\n",
       "</style>\n",
       "<table border=\"1\" class=\"dataframe\">\n",
       "  <thead>\n",
       "    <tr style=\"text-align: right;\">\n",
       "      <th></th>\n",
       "      <th>Data</th>\n",
       "      <th>Gan.</th>\n",
       "      <th>1</th>\n",
       "      <th>2</th>\n",
       "      <th>3</th>\n",
       "      <th>4</th>\n",
       "      <th>5</th>\n",
       "      <th>6</th>\n",
       "      <th>7</th>\n",
       "      <th>8</th>\n",
       "      <th>...</th>\n",
       "      <th>51</th>\n",
       "      <th>52</th>\n",
       "      <th>53</th>\n",
       "      <th>54</th>\n",
       "      <th>55</th>\n",
       "      <th>56</th>\n",
       "      <th>57</th>\n",
       "      <th>58</th>\n",
       "      <th>59</th>\n",
       "      <th>60</th>\n",
       "    </tr>\n",
       "  </thead>\n",
       "  <tbody>\n",
       "  </tbody>\n",
       "</table>\n",
       "<p>0 rows × 62 columns</p>\n",
       "</div>"
      ],
      "text/plain": [
       "Empty DataFrame\n",
       "Columns: [Data, Gan., 1, 2, 3, 4, 5, 6, 7, 8, 9, 10, 11, 12, 13, 14, 15, 16, 17, 18, 19, 20, 21, 22, 23, 24, 25, 26, 27, 28, 29, 30, 31, 32, 33, 34, 35, 36, 37, 38, 39, 40, 41, 42, 43, 44, 45, 46, 47, 48, 49, 50, 51, 52, 53, 54, 55, 56, 57, 58, 59, 60]\n",
       "Index: []\n",
       "\n",
       "[0 rows x 62 columns]"
      ]
     },
     "execution_count": 24,
     "metadata": {},
     "output_type": "execute_result"
    }
   ],
   "source": [
    "df[(df[5] == 1) & (df[15] == 1) & (df[22] == 1) & (df[23] == 1) & (df[27] == 1) & (df[37] == 1)]"
   ]
  },
  {
   "cell_type": "code",
   "execution_count": 25,
   "metadata": {
    "colab": {
     "base_uri": "https://localhost:8080/",
     "height": 78
    },
    "id": "vtu82zohf-nn",
    "outputId": "403b681f-e040-4ec7-beca-75672b7d077e"
   },
   "outputs": [
    {
     "data": {
      "text/html": [
       "<div>\n",
       "<style scoped>\n",
       "    .dataframe tbody tr th:only-of-type {\n",
       "        vertical-align: middle;\n",
       "    }\n",
       "\n",
       "    .dataframe tbody tr th {\n",
       "        vertical-align: top;\n",
       "    }\n",
       "\n",
       "    .dataframe thead th {\n",
       "        text-align: right;\n",
       "    }\n",
       "</style>\n",
       "<table border=\"1\" class=\"dataframe\">\n",
       "  <thead>\n",
       "    <tr style=\"text-align: right;\">\n",
       "      <th></th>\n",
       "      <th>Data</th>\n",
       "      <th>Gan.</th>\n",
       "      <th>1</th>\n",
       "      <th>2</th>\n",
       "      <th>3</th>\n",
       "      <th>4</th>\n",
       "      <th>5</th>\n",
       "      <th>6</th>\n",
       "      <th>7</th>\n",
       "      <th>8</th>\n",
       "      <th>...</th>\n",
       "      <th>51</th>\n",
       "      <th>52</th>\n",
       "      <th>53</th>\n",
       "      <th>54</th>\n",
       "      <th>55</th>\n",
       "      <th>56</th>\n",
       "      <th>57</th>\n",
       "      <th>58</th>\n",
       "      <th>59</th>\n",
       "      <th>60</th>\n",
       "    </tr>\n",
       "  </thead>\n",
       "  <tbody>\n",
       "  </tbody>\n",
       "</table>\n",
       "<p>0 rows × 62 columns</p>\n",
       "</div>"
      ],
      "text/plain": [
       "Empty DataFrame\n",
       "Columns: [Data, Gan., 1, 2, 3, 4, 5, 6, 7, 8, 9, 10, 11, 12, 13, 14, 15, 16, 17, 18, 19, 20, 21, 22, 23, 24, 25, 26, 27, 28, 29, 30, 31, 32, 33, 34, 35, 36, 37, 38, 39, 40, 41, 42, 43, 44, 45, 46, 47, 48, 49, 50, 51, 52, 53, 54, 55, 56, 57, 58, 59, 60]\n",
       "Index: []\n",
       "\n",
       "[0 rows x 62 columns]"
      ]
     },
     "execution_count": 25,
     "metadata": {},
     "output_type": "execute_result"
    }
   ],
   "source": [
    "df[(df[3] == 1) & (df[4] == 1) & (df[32] == 1) & (df[36] == 1) & (df[47] == 1) ]"
   ]
  },
  {
   "cell_type": "code",
   "execution_count": 51,
   "metadata": {},
   "outputs": [
    {
     "name": "stdout",
     "output_type": "stream",
     "text": [
      "Dados gravados no arquivo: Mega_sequencias.json\n"
     ]
    }
   ],
   "source": [
    "import json\n",
    "\n",
    "# Sua lista de listas\n",
    "dados = json_sequencia\n",
    "\n",
    "# Especificando o caminho do arquivo\n",
    "caminho_arquivo = 'Mega_sequencias.json'\n",
    "\n",
    "# Gravando a lista de listas em um arquivo JSON\n",
    "with open(caminho_arquivo, 'w') as arquivo:\n",
    "    json.dump(dados, arquivo)\n",
    "\n",
    "print(f'Dados gravados no arquivo: {caminho_arquivo}')\n"
   ]
  },
  {
   "cell_type": "code",
   "execution_count": 52,
   "metadata": {},
   "outputs": [],
   "source": [
    "#Versao 3"
   ]
  },
  {
   "cell_type": "code",
   "execution_count": null,
   "metadata": {},
   "outputs": [],
   "source": []
  }
 ],
 "metadata": {
  "colab": {
   "provenance": []
  },
  "kernelspec": {
   "display_name": "Python 3 (ipykernel)",
   "language": "python",
   "name": "python3"
  },
  "language_info": {
   "codemirror_mode": {
    "name": "ipython",
    "version": 3
   },
   "file_extension": ".py",
   "mimetype": "text/x-python",
   "name": "python",
   "nbconvert_exporter": "python",
   "pygments_lexer": "ipython3",
   "version": "3.9.13"
  }
 },
 "nbformat": 4,
 "nbformat_minor": 4
}
