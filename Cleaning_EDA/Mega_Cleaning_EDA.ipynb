{
 "cells": [
  {
   "cell_type": "markdown",
   "metadata": {},
   "source": [
    "# ***ProbaSorte:*** Explorando Padrões e Probabilidades nos Resultados da Loteria (1996-2024)"
   ]
  },
  {
   "cell_type": "markdown",
   "metadata": {},
   "source": [
    "Este projeto, propõe-se a explorar e decifrar os padrões por trás dos resultados de loteria no período de 1996 a 2024. Ao examinar meticulosamente os números sorteados, nossa missão é revelar insights valiosos, desde os números mais frequentes até as combinações menos usuais."
   ]
  },
  {
   "cell_type": "markdown",
   "metadata": {
    "tags": []
   },
   "source": [
    "### Objetivo do Projeto"
   ]
  },
  {
   "cell_type": "markdown",
   "metadata": {},
   "source": [
    "Durante as últimas décadas, a loteria tem sido uma fonte de empolgação e especulação. Neste projeto, nosso objetivo é lançar luz sobre os seguintes aspectos:\n",
    "\n",
    "- Identificar o valor médio de prêmios, números de ganhadores e têndencias dos sorteios.\n",
    "\n",
    "- Identificar a Integridade da Mega Sena como jogo aleatório.\n",
    "\n",
    "- Probabilidades: Calcular e explorar as probabilidades associadas a diferentes números e combinações, oferecendo uma visão mais profunda sobre a aleatoriedade do sorteio.\n",
    "\n",
    "*Primeiro será feito o tratamento e limpeza dos dados.Em seguida, será feito a análise explorátoria dos valores dos prêmios e quantidade de ganhadores. Finalizando com a validação da integridade da Mega Sena e identificação de possíveis estratégias para o aumento da probabilidade de ganho.*"
   ]
  },
  {
   "cell_type": "markdown",
   "metadata": {
    "tags": []
   },
   "source": [
    "### Pré-Processamento"
   ]
  },
  {
   "cell_type": "code",
   "execution_count": 1,
   "metadata": {},
   "outputs": [],
   "source": [
    "# importando bibliotecas\n",
    "import pandas as pd\n",
    "import numpy as np\n",
    "import matplotlib.pyplot as plt\n",
    "import seaborn as sns\n",
    "\n",
    "pd.options.display.float_format = '{:.2f}'.format"
   ]
  },
  {
   "cell_type": "code",
   "execution_count": 2,
   "metadata": {},
   "outputs": [],
   "source": [
    "# carregando dados da Mega Sena até 2024\n",
    "try:\n",
    "    mega = pd.read_csv('mega_sena.csv', header=1)\n",
    "except FileNotFoundError:\n",
    "    print(\"O arquivo CSV não foi encontrado em nenhuma das localizações especificadas.\")"
   ]
  },
  {
   "cell_type": "markdown",
   "metadata": {},
   "source": [
    "#### Identificando problemas"
   ]
  },
  {
   "cell_type": "code",
   "execution_count": 3,
   "metadata": {},
   "outputs": [
    {
     "name": "stdout",
     "output_type": "stream",
     "text": [
      "<class 'pandas.core.frame.DataFrame'>\n",
      "RangeIndex: 2675 entries, 0 to 2674\n",
      "Data columns (total 10 columns):\n",
      " #   Column  Non-Null Count  Dtype \n",
      "---  ------  --------------  ----- \n",
      " 0   Conc.   2675 non-null   int64 \n",
      " 1   Data    2675 non-null   object\n",
      " 2   1       2675 non-null   int64 \n",
      " 3   2       2675 non-null   int64 \n",
      " 4   3       2675 non-null   int64 \n",
      " 5   4       2675 non-null   int64 \n",
      " 6   5       2675 non-null   int64 \n",
      " 7   6       2675 non-null   int64 \n",
      " 8   Gan.    2675 non-null   int64 \n",
      " 9   Prêmio  606 non-null    object\n",
      "dtypes: int64(8), object(2)\n",
      "memory usage: 209.1+ KB\n"
     ]
    },
    {
     "data": {
      "text/html": [
       "<div>\n",
       "<style scoped>\n",
       "    .dataframe tbody tr th:only-of-type {\n",
       "        vertical-align: middle;\n",
       "    }\n",
       "\n",
       "    .dataframe tbody tr th {\n",
       "        vertical-align: top;\n",
       "    }\n",
       "\n",
       "    .dataframe thead th {\n",
       "        text-align: right;\n",
       "    }\n",
       "</style>\n",
       "<table border=\"1\" class=\"dataframe\">\n",
       "  <thead>\n",
       "    <tr style=\"text-align: right;\">\n",
       "      <th></th>\n",
       "      <th>Conc.</th>\n",
       "      <th>Data</th>\n",
       "      <th>1</th>\n",
       "      <th>2</th>\n",
       "      <th>3</th>\n",
       "      <th>4</th>\n",
       "      <th>5</th>\n",
       "      <th>6</th>\n",
       "      <th>Gan.</th>\n",
       "      <th>Prêmio</th>\n",
       "    </tr>\n",
       "  </thead>\n",
       "  <tbody>\n",
       "    <tr>\n",
       "      <th>0</th>\n",
       "      <td>2675</td>\n",
       "      <td>13/01/2024</td>\n",
       "      <td>1</td>\n",
       "      <td>26</td>\n",
       "      <td>31</td>\n",
       "      <td>34</td>\n",
       "      <td>42</td>\n",
       "      <td>45</td>\n",
       "      <td>0</td>\n",
       "      <td>NaN</td>\n",
       "    </tr>\n",
       "    <tr>\n",
       "      <th>1</th>\n",
       "      <td>2674</td>\n",
       "      <td>11/01/2024</td>\n",
       "      <td>8</td>\n",
       "      <td>14</td>\n",
       "      <td>15</td>\n",
       "      <td>21</td>\n",
       "      <td>23</td>\n",
       "      <td>46</td>\n",
       "      <td>0</td>\n",
       "      <td>NaN</td>\n",
       "    </tr>\n",
       "    <tr>\n",
       "      <th>2</th>\n",
       "      <td>2673</td>\n",
       "      <td>09/01/2024</td>\n",
       "      <td>4</td>\n",
       "      <td>27</td>\n",
       "      <td>35</td>\n",
       "      <td>45</td>\n",
       "      <td>52</td>\n",
       "      <td>56</td>\n",
       "      <td>0</td>\n",
       "      <td>NaN</td>\n",
       "    </tr>\n",
       "    <tr>\n",
       "      <th>3</th>\n",
       "      <td>2672</td>\n",
       "      <td>06/01/2024</td>\n",
       "      <td>10</td>\n",
       "      <td>13</td>\n",
       "      <td>20</td>\n",
       "      <td>40</td>\n",
       "      <td>43</td>\n",
       "      <td>56</td>\n",
       "      <td>1</td>\n",
       "      <td>6,480,136.97</td>\n",
       "    </tr>\n",
       "    <tr>\n",
       "      <th>4</th>\n",
       "      <td>2671</td>\n",
       "      <td>04/01/2024</td>\n",
       "      <td>16</td>\n",
       "      <td>19</td>\n",
       "      <td>43</td>\n",
       "      <td>53</td>\n",
       "      <td>57</td>\n",
       "      <td>58</td>\n",
       "      <td>0</td>\n",
       "      <td>NaN</td>\n",
       "    </tr>\n",
       "  </tbody>\n",
       "</table>\n",
       "</div>"
      ],
      "text/plain": [
       "   Conc.        Data   1   2   3   4   5   6  Gan.        Prêmio\n",
       "0   2675  13/01/2024   1  26  31  34  42  45     0           NaN\n",
       "1   2674  11/01/2024   8  14  15  21  23  46     0           NaN\n",
       "2   2673  09/01/2024   4  27  35  45  52  56     0           NaN\n",
       "3   2672  06/01/2024  10  13  20  40  43  56     1  6,480,136.97\n",
       "4   2671  04/01/2024  16  19  43  53  57  58     0           NaN"
      ]
     },
     "execution_count": 3,
     "metadata": {},
     "output_type": "execute_result"
    }
   ],
   "source": [
    "# primeiras impressões\n",
    "mega.info()\n",
    "mega.head()"
   ]
  },
  {
   "cell_type": "code",
   "execution_count": 4,
   "metadata": {},
   "outputs": [
    {
     "data": {
      "text/html": [
       "<div>\n",
       "<style scoped>\n",
       "    .dataframe tbody tr th:only-of-type {\n",
       "        vertical-align: middle;\n",
       "    }\n",
       "\n",
       "    .dataframe tbody tr th {\n",
       "        vertical-align: top;\n",
       "    }\n",
       "\n",
       "    .dataframe thead th {\n",
       "        text-align: right;\n",
       "    }\n",
       "</style>\n",
       "<table border=\"1\" class=\"dataframe\">\n",
       "  <thead>\n",
       "    <tr style=\"text-align: right;\">\n",
       "      <th></th>\n",
       "      <th>Conc.</th>\n",
       "      <th>1</th>\n",
       "      <th>2</th>\n",
       "      <th>3</th>\n",
       "      <th>4</th>\n",
       "      <th>5</th>\n",
       "      <th>6</th>\n",
       "      <th>Gan.</th>\n",
       "    </tr>\n",
       "  </thead>\n",
       "  <tbody>\n",
       "    <tr>\n",
       "      <th>count</th>\n",
       "      <td>2675.00</td>\n",
       "      <td>2675.00</td>\n",
       "      <td>2675.00</td>\n",
       "      <td>2675.00</td>\n",
       "      <td>2675.00</td>\n",
       "      <td>2675.00</td>\n",
       "      <td>2675.00</td>\n",
       "      <td>2675.00</td>\n",
       "    </tr>\n",
       "    <tr>\n",
       "      <th>mean</th>\n",
       "      <td>1338.00</td>\n",
       "      <td>8.61</td>\n",
       "      <td>17.35</td>\n",
       "      <td>26.36</td>\n",
       "      <td>35.07</td>\n",
       "      <td>43.57</td>\n",
       "      <td>52.17</td>\n",
       "      <td>0.34</td>\n",
       "    </tr>\n",
       "    <tr>\n",
       "      <th>std</th>\n",
       "      <td>772.35</td>\n",
       "      <td>7.00</td>\n",
       "      <td>9.14</td>\n",
       "      <td>9.97</td>\n",
       "      <td>9.77</td>\n",
       "      <td>9.04</td>\n",
       "      <td>7.00</td>\n",
       "      <td>1.29</td>\n",
       "    </tr>\n",
       "    <tr>\n",
       "      <th>min</th>\n",
       "      <td>1.00</td>\n",
       "      <td>1.00</td>\n",
       "      <td>2.00</td>\n",
       "      <td>3.00</td>\n",
       "      <td>8.00</td>\n",
       "      <td>11.00</td>\n",
       "      <td>22.00</td>\n",
       "      <td>0.00</td>\n",
       "    </tr>\n",
       "    <tr>\n",
       "      <th>25%</th>\n",
       "      <td>669.50</td>\n",
       "      <td>3.00</td>\n",
       "      <td>10.00</td>\n",
       "      <td>19.00</td>\n",
       "      <td>28.00</td>\n",
       "      <td>38.00</td>\n",
       "      <td>49.00</td>\n",
       "      <td>0.00</td>\n",
       "    </tr>\n",
       "    <tr>\n",
       "      <th>50%</th>\n",
       "      <td>1338.00</td>\n",
       "      <td>7.00</td>\n",
       "      <td>16.00</td>\n",
       "      <td>26.00</td>\n",
       "      <td>35.00</td>\n",
       "      <td>45.00</td>\n",
       "      <td>54.00</td>\n",
       "      <td>0.00</td>\n",
       "    </tr>\n",
       "    <tr>\n",
       "      <th>75%</th>\n",
       "      <td>2006.50</td>\n",
       "      <td>12.00</td>\n",
       "      <td>23.00</td>\n",
       "      <td>33.00</td>\n",
       "      <td>42.00</td>\n",
       "      <td>51.00</td>\n",
       "      <td>58.00</td>\n",
       "      <td>0.00</td>\n",
       "    </tr>\n",
       "    <tr>\n",
       "      <th>max</th>\n",
       "      <td>2675.00</td>\n",
       "      <td>50.00</td>\n",
       "      <td>51.00</td>\n",
       "      <td>56.00</td>\n",
       "      <td>58.00</td>\n",
       "      <td>59.00</td>\n",
       "      <td>60.00</td>\n",
       "      <td>52.00</td>\n",
       "    </tr>\n",
       "  </tbody>\n",
       "</table>\n",
       "</div>"
      ],
      "text/plain": [
       "        Conc.       1       2       3       4       5       6    Gan.\n",
       "count 2675.00 2675.00 2675.00 2675.00 2675.00 2675.00 2675.00 2675.00\n",
       "mean  1338.00    8.61   17.35   26.36   35.07   43.57   52.17    0.34\n",
       "std    772.35    7.00    9.14    9.97    9.77    9.04    7.00    1.29\n",
       "min      1.00    1.00    2.00    3.00    8.00   11.00   22.00    0.00\n",
       "25%    669.50    3.00   10.00   19.00   28.00   38.00   49.00    0.00\n",
       "50%   1338.00    7.00   16.00   26.00   35.00   45.00   54.00    0.00\n",
       "75%   2006.50   12.00   23.00   33.00   42.00   51.00   58.00    0.00\n",
       "max   2675.00   50.00   51.00   56.00   58.00   59.00   60.00   52.00"
      ]
     },
     "execution_count": 4,
     "metadata": {},
     "output_type": "execute_result"
    }
   ],
   "source": [
    "mega.describe()"
   ]
  },
  {
   "cell_type": "markdown",
   "metadata": {},
   "source": [
    "Problemas encontrados:\n",
    "- Os nomes das colunas devem ficar em letra minúscula e devem ser claros;\n",
    "- A coluna **Data** está como *object*, deve ser *datetime*;\n",
    "- A coluna **Prêmio** está como *object*, deve ser *float*;\n",
    "- A coluna **Prêmio** possui valores ausentes;"
   ]
  },
  {
   "cell_type": "markdown",
   "metadata": {},
   "source": [
    "#### Correção dos Problemas"
   ]
  },
  {
   "cell_type": "markdown",
   "metadata": {},
   "source": [
    "Renomeando as colunas"
   ]
  },
  {
   "cell_type": "code",
   "execution_count": 5,
   "metadata": {},
   "outputs": [
    {
     "data": {
      "text/plain": [
       "Index(['concurso', 'data', 'n1', 'n2', 'n3', 'n4', 'n5', 'n6',\n",
       "       'num_ganhadores', 'premio'],\n",
       "      dtype='object')"
      ]
     },
     "execution_count": 5,
     "metadata": {},
     "output_type": "execute_result"
    }
   ],
   "source": [
    "# Alterando nome das colunas\n",
    "mega.columns= ['concurso', 'data','n1','n2','n3','n4','n5','n6','num_ganhadores','premio']\n",
    "\n",
    "# Visualizando\n",
    "mega.columns"
   ]
  },
  {
   "cell_type": "markdown",
   "metadata": {},
   "source": [
    "Corrigindo a coluna **data** e **premio**"
   ]
  },
  {
   "cell_type": "code",
   "execution_count": 6,
   "metadata": {},
   "outputs": [
    {
     "data": {
      "text/plain": [
       "0   2024-01-13\n",
       "1   2024-01-11\n",
       "2   2024-01-09\n",
       "3   2024-01-06\n",
       "4   2024-01-04\n",
       "Name: data, dtype: datetime64[ns]"
      ]
     },
     "execution_count": 6,
     "metadata": {},
     "output_type": "execute_result"
    }
   ],
   "source": [
    "# transformando a coluna data de object pata datetime\n",
    "mega['data'] = pd.to_datetime(mega['data'], format=\"%d/%m/%Y\")\n",
    "\n",
    "# Criação da coluna ano\n",
    "mega['ano'] = pd.to_datetime(mega['data']).dt.year\n",
    "\n",
    "# Visualizando\n",
    "mega['data'].head()"
   ]
  },
  {
   "cell_type": "code",
   "execution_count": 7,
   "metadata": {},
   "outputs": [
    {
     "ename": "SyntaxError",
     "evalue": "invalid syntax (1850494113.py, line 5)",
     "output_type": "error",
     "traceback": [
      "\u001b[1;36m  File \u001b[1;32m\"C:\\Users\\luizg\\AppData\\Local\\Temp\\ipykernel_9444\\1850494113.py\"\u001b[1;36m, line \u001b[1;32m5\u001b[0m\n\u001b[1;33m    mega['premio'].head(10)mega.info()\u001b[0m\n\u001b[1;37m                           ^\u001b[0m\n\u001b[1;31mSyntaxError\u001b[0m\u001b[1;31m:\u001b[0m invalid syntax\n"
     ]
    }
   ],
   "source": [
    "# transformando a coluna premio de object para float\n",
    "mega['premio'] = mega['premio'].str.replace(',', '').astype(float)\n",
    "\n",
    "# Visualizando\n",
    "mega['premio'].head(10)mega.info()"
   ]
  },
  {
   "cell_type": "code",
   "execution_count": null,
   "metadata": {},
   "outputs": [],
   "source": [
    "mega.info()"
   ]
  },
  {
   "cell_type": "markdown",
   "metadata": {},
   "source": [
    "Corrigindo os valores nulos"
   ]
  },
  {
   "cell_type": "code",
   "execution_count": null,
   "metadata": {},
   "outputs": [],
   "source": [
    "# Visualizando numero de valores nulos\n",
    "mega.isna().sum()"
   ]
  },
  {
   "cell_type": "markdown",
   "metadata": {},
   "source": [
    "As linhas que possuem valor nulo na coluna **premio** são os concursos que não houveram vencedores.\n",
    "\n",
    "Sendo assim, os valores nulos serão substituídos por 0."
   ]
  },
  {
   "cell_type": "code",
   "execution_count": null,
   "metadata": {},
   "outputs": [],
   "source": [
    "# Substituindo valores nulos\n",
    "mega['premio'].fillna(0, inplace=True)\n",
    "\n",
    "# Visualizando numero de valores nulos\n",
    "mega.isna().sum()"
   ]
  },
  {
   "cell_type": "markdown",
   "metadata": {},
   "source": [
    "Procurando por linhas duplicadas."
   ]
  },
  {
   "cell_type": "code",
   "execution_count": null,
   "metadata": {},
   "outputs": [],
   "source": [
    "mega.duplicated().sum()"
   ]
  },
  {
   "cell_type": "markdown",
   "metadata": {},
   "source": [
    "Sem duplicados.\n",
    "\n",
    "Todos os problemas foram corrigidos, seguirei para a análise exploratória."
   ]
  },
  {
   "cell_type": "markdown",
   "metadata": {},
   "source": [
    "### EDA"
   ]
  },
  {
   "cell_type": "markdown",
   "metadata": {},
   "source": [
    "#### Investigando a quantidade de ganhadores"
   ]
  },
  {
   "cell_type": "code",
   "execution_count": null,
   "metadata": {},
   "outputs": [],
   "source": [
    "display(mega.head(10))\n",
    "# Visualizando distribuição\n",
    "mega.describe()"
   ]
  },
  {
   "cell_type": "markdown",
   "metadata": {},
   "source": [
    "Identificando a quantidade de ganhadores"
   ]
  },
  {
   "cell_type": "code",
   "execution_count": null,
   "metadata": {},
   "outputs": [],
   "source": [
    "#Identificando o número de ganhadores\n",
    "print('Quantidade de ganhadores desde 1996:' )\n",
    "print(mega['num_ganhadores'].sum())\n",
    "print('')\n",
    "\n",
    "print('Média de ganhadores por ano:' )\n",
    "print(mega['num_ganhadores'].sum() / 28)\n",
    "print('')\n",
    "\n",
    "print('Número máximo de ganhadores por Concurso:' )\n",
    "print(mega['num_ganhadores'].max())\n",
    "print('')\n"
   ]
  },
  {
   "cell_type": "code",
   "execution_count": null,
   "metadata": {},
   "outputs": [],
   "source": [
    "# Criando uma tabela de ganhadores por ano\n",
    "mega_winners_sum = mega.pivot_table(index='ano', values='num_ganhadores', aggfunc='sum').reset_index()\n",
    "\n",
    "# Configurando o tamanho da figura\n",
    "plt.figure(figsize=(8, 4))\n",
    "\n",
    "# Grafico de linha de ganhadores por ano\n",
    "sns.lineplot(x=mega_winners_sum['ano'], y=mega_winners_sum['num_ganhadores'])\n",
    "\n",
    "# Rotacionando os rótulos do eixo x para melhor visualização\n",
    "plt.xticks(rotation=45) \n",
    "\n",
    "# Adicionando título ao gráfico\n",
    "plt.title('Quantidade de Ganhadores por Ano')\n",
    "\n",
    "# Exibindo o gráfico\n",
    "plt.show()\n"
   ]
  },
  {
   "cell_type": "markdown",
   "metadata": {},
   "source": [
    "Houve um crescimento constante de do número de ganhadores ao longo dos anos com um pico em 2018. Não estã claro por que houve um número desproporcinal de ganhadores em 2018, mas está claro que a pandemia fez com que houvesse uma que no número de ganhadores pela queda no número de jogares."
   ]
  },
  {
   "cell_type": "markdown",
   "metadata": {},
   "source": [
    "#### Investigando os valores dos prêmios"
   ]
  },
  {
   "cell_type": "code",
   "execution_count": null,
   "metadata": {},
   "outputs": [],
   "source": [
    "print('Porcentagem de concursos que não houveram vencedores:')\n",
    "\n",
    "# Porcentagem de concurso que não houveram vencedores\n",
    "len(mega[mega['premio'] == 0]) / len(mega)"
   ]
  },
  {
   "cell_type": "markdown",
   "metadata": {},
   "source": [
    "A grande maioria dos sorteios não tem um vencedor."
   ]
  },
  {
   "cell_type": "code",
   "execution_count": null,
   "metadata": {},
   "outputs": [],
   "source": [
    "print('Soma de todos os prêmios sorteados:')\n",
    "print(mega['premio'].sum())\n",
    "print('')\n",
    "\n",
    "print('Prêmio médio por sorteio:')\n",
    "print(mega['premio'].mean())\n",
    "print('')\n",
    "\n",
    "print('Prêmio médio por sorteio (sorteios com ganhadores):')\n",
    "print(mega[mega['premio']!=0]['premio'].mean())"
   ]
  },
  {
   "cell_type": "markdown",
   "metadata": {},
   "source": [
    "Um prêmio médio é de 5 milhões, considerando os apenas os sorteios que houveram ganhadores o prêmio médio é de 24 milhões. E 14 bilhões foi o total acumulado dos sorteios desde 1996."
   ]
  },
  {
   "cell_type": "code",
   "execution_count": null,
   "metadata": {},
   "outputs": [],
   "source": [
    "# Criando uma tabela de total sorteado por ano\n",
    "prize_sum_year = mega.pivot_table(index='ano', values='premio', aggfunc='sum').reset_index()\n",
    "\n",
    "# Configurando o tamanho da figura\n",
    "plt.figure(figsize=(10, 6))\n",
    "\n",
    "# Criando um gráfico de barras com a soma dos prêmios por ano\n",
    "sns.barplot(x=prize_sum_year['ano'], y=prize_sum_year['premio'], color='skyblue')\n",
    "\n",
    "# Rotacionando os rótulos do eixo x para melhor visualização\n",
    "plt.xticks(rotation=45) \n",
    "\n",
    "# Adicionando título ao gráfico\n",
    "plt.title('Quantidade Sorteada por Ano')\n",
    "\n",
    "# Exibindo o gráfico\n",
    "plt.show()"
   ]
  },
  {
   "cell_type": "markdown",
   "metadata": {},
   "source": [
    "A quantidade de dinheiro sorteado todo ano segue uma tendência de crescimento constante, considerando a inflação o crescimento parece continuar positivo.\n",
    "\n",
    "Em apenas 23 % dos concursos houveram ganhadores, com um prêmio médio por concurso de 23 milhões e com um crescimento continuo da quantidade sorteada."
   ]
  },
  {
   "cell_type": "markdown",
   "metadata": {},
   "source": [
    "### Analisando a Integridade da Mega Sena"
   ]
  },
  {
   "cell_type": "markdown",
   "metadata": {},
   "source": [
    "Será analisado se a Mega Sena é uma loteria honesta, sendo necessário para definir estratégias para o ganho de sorteios. "
   ]
  },
  {
   "cell_type": "code",
   "execution_count": null,
   "metadata": {},
   "outputs": [],
   "source": [
    "# Importe as bibliotecas necessárias\n",
    "import matplotlib.pyplot as plt\n",
    "import seaborn as sns\n",
    "\n",
    "# Crie uma figura com duas linhas e três colunas\n",
    "fig, axes = plt.subplots(2, 3, figsize=(15, 8))\n",
    "\n",
    "# Reshape do array de eixos para facilitar o acesso\n",
    "axes = axes.flatten()\n",
    "\n",
    "# Loop sobre as colunas de n1 a n6\n",
    "for i in range(1, 7):\n",
    "    # Selecione o eixo apropriado\n",
    "    ax = axes[i - 1]\n",
    "    \n",
    "    # Crie o histograma usando seaborn\n",
    "    sns.histplot(x=f'n{i}', data=mega, ax=ax)\n",
    "    \n",
    "    # Adicione rótulos e título se necessário\n",
    "    ax.set_xlabel(f'n{i}')  # Rótulo do eixo x\n",
    "    ax.set_ylabel('Contagem')  # Rótulo do eixo y\n",
    "    ax.set_title(f'Histograma n{i}')  # Título do gráfico\n",
    "\n",
    "# Ajuste o layout para evitar sobreposição\n",
    "plt.tight_layout()\n",
    "\n",
    "# Exiba os gráficos\n",
    "plt.show()\n"
   ]
  },
  {
   "cell_type": "markdown",
   "metadata": {},
   "source": [
    "Quando os números são apresentados eles são passado em ordem crescente, os gráficos não apresentam nenhuma irregularidade."
   ]
  },
  {
   "cell_type": "code",
   "execution_count": null,
   "metadata": {},
   "outputs": [],
   "source": [
    "# Criação de uma lista com todos os numeros sorteados\n",
    "mega_num = mega[['n1', 'n2', 'n3', 'n4', 'n5', 'n6']]\n",
    "\n",
    "mega_list = mega_num.values.flatten().tolist()\n",
    "\n",
    "# Tamanho da lista\n",
    "print('Quantidade de números sortedados desde 1996:')\n",
    "len(mega_list)"
   ]
  },
  {
   "cell_type": "code",
   "execution_count": null,
   "metadata": {},
   "outputs": [],
   "source": [
    "# Configurando o tamanho da figura\n",
    "plt.figure(figsize=(8, 4))\n",
    "\n",
    "# Histograma da lista\n",
    "sns.histplot(data=mega_list)\n",
    "\n",
    "# Adicionando título ao gráfico\n",
    "plt.title('Histograma do Números Sorteados')\n",
    "\n",
    "# Exibindo o gráfico\n",
    "plt.show()\n"
   ]
  },
  {
   "cell_type": "markdown",
   "metadata": {},
   "source": [
    "A distribuição é continua e uniforme, mas ainda não houveram números o suficiente para que todos os números tenham a mesma frequência. A partir das visualização considero que a Mega Sena é justa e aleatória."
   ]
  },
  {
   "cell_type": "markdown",
   "metadata": {},
   "source": [
    "### Conclusão"
   ]
  },
  {
   "cell_type": "markdown",
   "metadata": {},
   "source": [
    "A Mega Sena, desde 1996, demonstra um crescimento constante na quantidade de ganhadores por concurso, com uma média anual de cerca de 32 ganhadores com um prêmio médio de 24 milhões de reais. A quantidade de dinheiro sorteado anualmente mostra um crescimento constante, podendo ser por causa da inflação e popularização do jogo.\n",
    "\n",
    "Em apenas 23% dos concursos houve ganhadores. A distribuição de ganhadores parece ser contínua e uniforme, sugerindo que a Mega Sena é justa e aleatória. Apesar de ainda não terem ocorrido números suficientes para uma igualdade na frequência dos números sorteados.\n",
    "\n",
    "Sendo assim, uma possível estratégia a ser seguida é jogar nos números que menos caíram desde 1996, supondo que por tendencia eles começaram a ocorrer mais, mas não é garantido pois é uma tendência quendo se considera dezenas de milhares de números, não afetando sorteios indivíduais. Esses informações serão passadas para a equipe de DS para eles desenvolverem uma aplicação para essa estratégia."
   ]
  }
 ],
 "metadata": {
  "kernelspec": {
   "display_name": "Python 3 (ipykernel)",
   "language": "python",
   "name": "python3"
  },
  "language_info": {
   "codemirror_mode": {
    "name": "ipython",
    "version": 3
   },
   "file_extension": ".py",
   "mimetype": "text/x-python",
   "name": "python",
   "nbconvert_exporter": "python",
   "pygments_lexer": "ipython3",
   "version": "3.9.13"
  }
 },
 "nbformat": 4,
 "nbformat_minor": 4
}
